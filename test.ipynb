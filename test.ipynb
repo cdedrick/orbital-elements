{
 "cells": [
  {
   "cell_type": "markdown",
   "metadata": {},
   "source": [
    "# An Interactive Introduction to Orbital Elements \n",
    "## (For Confused Exoplanet Observers)\n",
    "\n",
    "### Author: Cayla Dedrick"
   ]
  },
  {
   "cell_type": "code",
   "execution_count": null,
   "metadata": {},
   "outputs": [],
   "source": [
    "import numpy as np\n",
    "import matplotlib.pyplot as plt"
   ]
  },
  {
   "cell_type": "code",
   "execution_count": null,
   "metadata": {},
   "outputs": [],
   "source": [
    "true_anom = np.linspace(0, 2 * np.pi, 1000)\n",
    "\n",
    "def rv(f):\n",
    "    P = 1\n",
    "    Tp = 0\n",
    "    e = 0\n",
    "    w = 0\n",
    "    K = 1\n",
    "    rv = K * (np.cos(f + w) + e * np.cos(w))\n",
    "    return rv\n",
    "\n",
    "def trueanom_to_time(f, P, Tp, e):\n",
    "    cosE = (e + np.cos(f))/(1 + e * np.cos(f))\n",
    "    sinE = (np.sqrt(1 - e**2) * np.sin(f))/(1 + e * np.cos(f))\n",
    "    E = np.arctan2(sinE, cosE)\n",
    "    E[E < 0] += 2 * np.pi\n",
    "    M = E - e * np.sin(E)\n",
    "    return P / (2 * np.pi) * M + Tp"
   ]
  },
  {
   "cell_type": "code",
   "execution_count": null,
   "metadata": {},
   "outputs": [],
   "source": [
    "t_plot = trueanom_to_time(true_anom, P=1, Tp=0, e=0)\n",
    "rv_plot = rv(true_anom)\n",
    "\n",
    "fig, axs = plt.subplots(1, 1)\n",
    "\n",
    "axs.plot(t_plot, rv_plot)\n",
    "axs.set_xlabel('Time')\n",
    "axs.set_ylabel('RV')"
   ]
  },
  {
   "cell_type": "markdown",
   "metadata": {},
   "source": [
    "some other stuff"
   ]
  },
  {
   "cell_type": "code",
   "execution_count": null,
   "metadata": {},
   "outputs": [],
   "source": []
  },
  {
   "cell_type": "code",
   "execution_count": null,
   "metadata": {},
   "outputs": [],
   "source": []
  }
 ],
 "metadata": {
  "kernelspec": {
   "display_name": "env",
   "language": "python",
   "name": "python3"
  },
  "language_info": {
   "codemirror_mode": {
    "name": "ipython",
    "version": 3
   },
   "file_extension": ".py",
   "mimetype": "text/x-python",
   "name": "python",
   "nbconvert_exporter": "python",
   "pygments_lexer": "ipython3",
   "version": "3.11.4"
  }
 },
 "nbformat": 4,
 "nbformat_minor": 2
}
